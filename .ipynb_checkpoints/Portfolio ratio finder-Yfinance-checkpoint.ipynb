{
 "cells": [
  {
   "cell_type": "markdown",
   "id": "0c31a4b7",
   "metadata": {},
   "source": [
    "write me a python code to find the best portfolio allocation among ticke:CCD, USA,GOF using yfinance "
   ]
  },
  {
   "cell_type": "markdown",
   "id": "ad00acda",
   "metadata": {},
   "source": [
    "First, you need to install the yfinance library using pip install yfinance.\n",
    "\n",
    "Next, you can use the yfinance library to fetch the stock data for the three tickers. You can do this using the Ticker class of the yfinance library and the info method."
   ]
  },
  {
   "cell_type": "code",
   "execution_count": null,
   "id": "43c3e55a",
   "metadata": {},
   "outputs": [],
   "source": [
    "import yfinance as yf\n",
    "\n",
    "ccd = yf.Ticker(\"CCD\")\n",
    "ccd_info = ccd.info\n",
    "\n",
    "usa = yf.Ticker(\"USA\")\n",
    "usa_info = usa.info\n",
    "\n",
    "gof = yf.Ticker(\"GOF\")\n",
    "gof_info = gof.info\n"
   ]
  },
  {
   "cell_type": "markdown",
   "id": "c6e11ca3",
   "metadata": {},
   "source": [
    "You can then use the stock data to calculate the expected return and the covariance matrix for the three stocks. The expected return can be calculated as the average of the historical returns of the stock, and the covariance matrix can be calculated as the covariance of the historical returns of the three stocks."
   ]
  },
  {
   "cell_type": "code",
   "execution_count": null,
   "id": "afa80ba2",
   "metadata": {},
   "outputs": [],
   "source": [
    "import numpy as np\n",
    "\n",
    "returns = np.array([ccd_info['regularMarketPrice'], usa_info['regularMarketPrice'], gof_info['regularMarketPrice']])\n",
    "cov_matrix = np.cov(returns)\n"
   ]
  },
  {
   "cell_type": "markdown",
   "id": "bfb06ec0",
   "metadata": {},
   "source": [
    "Now, you can use a optimization algorithm such as the Sharpe ratio to find the optimal portfolio allocation that maximizes the Sharpe ratio. The Sharpe ratio is a measure of the risk-adjusted return of an investment."
   ]
  },
  {
   "cell_type": "code",
   "execution_count": null,
   "id": "b1e6b080",
   "metadata": {},
   "outputs": [],
   "source": [
    "from scipy.optimize import minimize\n",
    "\n",
    "def portfolio_performance(weights, mean_returns, cov_matrix, rf):\n",
    "    portfolio_return = np.sum(mean_returns * weights) * 252\n",
    "    portfolio_std = np.sqrt(np.dot(weights.T, np.dot(cov_matrix, weights))) * np.sqrt(252)\n",
    "    sharpe_ratio = (portfolio_return - rf) / portfolio_std\n",
    "    return -sharpe_ratio\n",
    "\n",
    "def optimize_portfolio(mean_returns, cov_matrix, rf):\n",
    "    num_assets = len(mean_returns)\n",
    "    args = (mean_returns, cov_matrix, rf)\n",
    "    constraints = ({'type': 'eq', 'fun': lambda x: np.sum(x) - 1})\n",
    "    bound = (0.0, 1.0)\n",
    "    bounds = tuple(bound for asset in range(num_assets))\n",
    "    result = minimize(portfolio_performance, num_assets * [1. / num_assets,], args=args,\n",
    "                      method='SLSQP', bounds=bounds, constraints=constraints)\n",
    "    return result\n",
    "\n",
    "mean_returns = returns.mean()\n",
    "cov_matrix = np.cov(returns)\n",
    "rf = 0.0\n",
    "\n",
    "optimized_weights = optimize_portfolio(mean_returns, cov_matrix, rf)\n"
   ]
  },
  {
   "cell_type": "markdown",
   "id": "ada3b5a6",
   "metadata": {},
   "source": [
    "The optimized weights for the portfolio allocation will be returned in the x attribute of the optimized_weights object. You can then use these weights to calculate the expected return and risk of the optimized portfolio."
   ]
  },
  {
   "cell_type": "code",
   "execution_count": null,
   "id": "d594320a",
   "metadata": {},
   "outputs": [],
   "source": [
    "portfolio_\n"
   ]
  },
  {
   "cell_type": "code",
   "execution_count": null,
   "id": "46750bf7",
   "metadata": {},
   "outputs": [],
   "source": []
  },
  {
   "cell_type": "code",
   "execution_count": null,
   "id": "8f37f927",
   "metadata": {},
   "outputs": [],
   "source": []
  },
  {
   "cell_type": "code",
   "execution_count": null,
   "id": "90524476",
   "metadata": {},
   "outputs": [],
   "source": []
  },
  {
   "cell_type": "markdown",
   "id": "8ffd5396",
   "metadata": {},
   "source": [
    "2 / 2\n",
    "\n",
    "Certainly! Here is a sample Python code that demonstrates how you can use the yfinance library to find the optimal portfolio allocation among the tickers CCD, USA, and GOF:"
   ]
  },
  {
   "cell_type": "code",
   "execution_count": null,
   "id": "8b204bd1",
   "metadata": {},
   "outputs": [],
   "source": [
    "import yfinance as yf\n",
    "\n",
    "# Get stock data for CCD, USA, and GOF\n",
    "ccd = yf.Ticker(\"CCD\").history(period=\"max\")\n",
    "usa = yf.Ticker(\"USA\").history(period=\"max\")\n",
    "gof = yf.Ticker(\"GOF\").history(period=\"max\")\n",
    "\n",
    "# Calculate daily returns for each stock\n",
    "ccd_returns = ccd['Close'].pct_change()\n",
    "usa_returns = usa['Close'].pct_change()\n",
    "gof_returns = gof['Close'].pct_change()\n",
    "\n",
    "# Calculate the mean and covariance of the returns\n",
    "mean_returns = [ccd_returns.mean(), usa_returns.mean(), gof_returns.mean()]\n",
    "cov_matrix = np.cov(ccd_returns, usa_returns, gof_returns)\n",
    "\n",
    "# Set the number of simulations and the number of stocks in the portfolio\n",
    "num_simulations = 10000\n",
    "num_stocks = 3\n",
    "\n",
    "# Set the desired level of risk (standard deviation of the portfolio)\n",
    "risk_level = 0.2\n",
    "\n",
    "# Calculate the optimal portfolio weights using the mean-variance optimization process\n",
    "results = []\n",
    "for _ in range(num_simulations):\n",
    "    weights = np.random.random(num_stocks)\n",
    "    weights /= np.sum(weights)\n",
    "    portfolio_return = np.dot(weights, mean_returns)\n",
    "    portfolio_std_dev = np.sqrt(np.dot(weights.T, np.dot(cov_matrix, weights)))\n",
    "    sharpe_ratio = portfolio_return / portfolio_std_dev\n",
    "    results.append((weights, portfolio_return, portfolio_std_dev, sharpe_ratio))\n",
    "\n",
    "# Sort the results by Sharpe ratio and print the top 10 portfolios\n",
    "results.sort(key=lambda x: x[3], reverse=True)\n",
    "print(results[:10])\n"
   ]
  },
  {
   "cell_type": "code",
   "execution_count": null,
   "id": "1a8342ed",
   "metadata": {},
   "outputs": [],
   "source": [
    "This code first retrieves the historical data for each of the three stocks using the yfinance library. It then calculates the daily returns for each stock and uses these returns to calculate the mean and covariance of the returns.\n",
    "\n",
    "Next, the code sets the number of simulations to run and the number of stocks in the portfolio. It also sets the desired level of risk (standard deviation) for the portfolio.\n",
    "\n",
    "The code then uses a loop to iterate through the simulations, generating random weights for the stocks in the portfolio and calculating the portfolio's return, standard deviation, and Sharpe ratio. It stores these results in a list and sorts the list by Sharpe ratio in descending order. Finally, it prints the top 10 portfolios with the highest Sharpe ratio.\n",
    "\n",
    "I hope this helps! Let me know if you have any questions."
   ]
  },
  {
   "cell_type": "code",
   "execution_count": null,
   "id": "9fb4a6d4",
   "metadata": {},
   "outputs": [],
   "source": []
  },
  {
   "cell_type": "code",
   "execution_count": null,
   "id": "309eaf6a",
   "metadata": {},
   "outputs": [],
   "source": []
  },
  {
   "cell_type": "markdown",
   "id": "c86e65c5",
   "metadata": {},
   "source": [
    "5、5\n",
    "\n",
    "To find the best portfolio allocation among the stocks CCD, USA, and GOF using yfinance, you can use the following steps:\n",
    "\n",
    "First, you will need to install the yfinance library. You can do this by running the following command:"
   ]
  },
  {
   "cell_type": "code",
   "execution_count": null,
   "id": "59000e76",
   "metadata": {},
   "outputs": [],
   "source": [
    "pip install yfinance\n"
   ]
  },
  {
   "cell_type": "markdown",
   "id": "128e8a41",
   "metadata": {},
   "source": [
    "Next, you will need to import the necessary libraries and modules. You will need to import yfinance and pandas:"
   ]
  },
  {
   "cell_type": "code",
   "execution_count": null,
   "id": "ae2d64c9",
   "metadata": {},
   "outputs": [],
   "source": [
    "import yfinance as yf\n",
    "import pandas as pd\n"
   ]
  },
  {
   "cell_type": "markdown",
   "id": "6c6930ed",
   "metadata": {},
   "source": [
    "Now, you can use the yfinance library to retrieve the stock data for CCD, USA, and GOF. You can do this by using the Ticker class and the info method:"
   ]
  },
  {
   "cell_type": "code",
   "execution_count": null,
   "id": "726003c3",
   "metadata": {},
   "outputs": [],
   "source": [
    "tickers = ['CCD', 'USA', 'GOF']\n",
    "stocks = yf.Ticker(tickers).info\n"
   ]
  },
  {
   "cell_type": "markdown",
   "id": "f08a7e34",
   "metadata": {},
   "source": [
    "The stocks variable will now contain a dictionary with information about the stocks. You can access the data for each stock using the stock ticker as the key. For example, you can access the data for CCD using stocks['CCD'].\n",
    "\n",
    "Next, you will need to calculate the returns for each stock. You can do this by using the pct_change method of the DataFrame class from pandas. For example, you can calculate the returns for CCD like this:"
   ]
  },
  {
   "cell_type": "code",
   "execution_count": null,
   "id": "cb896459",
   "metadata": {},
   "outputs": [],
   "source": [
    "ccd_returns = pd.DataFrame(stocks['CCD']['regularMarketPrice']).pct_change()\n"
   ]
  },
  {
   "cell_type": "code",
   "execution_count": null,
   "id": "03276d65",
   "metadata": {},
   "outputs": [],
   "source": [
    "Repeat this process for the other two stocks, USA and GOF.\n",
    "\n",
    "Now, you will need to calculate the covariance matrix for the returns of the three stocks. You can do this using the cov method of the DataFrame class:"
   ]
  },
  {
   "cell_type": "code",
   "execution_count": null,
   "id": "8809ce53",
   "metadata": {},
   "outputs": [],
   "source": [
    "cov_matrix = pd.DataFrame([ccd_returns, usa_returns, gof_returns]).cov()\n"
   ]
  },
  {
   "cell_type": "markdown",
   "id": "d302754c",
   "metadata": {},
   "source": [
    "Finally, you can use the cov_matrix and the expected returns for each stock to find the optimal portfolio allocation using the mean-variance optimization technique. There are many ways to do this, but one way is to use the cvxpy library. You can install cvxpy by running the following command:"
   ]
  },
  {
   "cell_type": "code",
   "execution_count": null,
   "id": "07a28dc8",
   "metadata": {},
   "outputs": [],
   "source": [
    "pip install cvxpy\n"
   ]
  },
  {
   "cell_type": "markdown",
   "id": "c7a6d087",
   "metadata": {},
   "source": [
    "Once you have installed cvxpy, you can use it to find the optimal portfolio allocation like this:"
   ]
  },
  {
   "cell_type": "code",
   "execution_count": null,
   "id": "610e91e5",
   "metadata": {},
   "outputs": [],
   "source": [
    "import cvxpy as cp\n",
    "\n",
    "# Define the optimization variables\n",
    "weights = cp.Variable(3)\n",
    "\n",
    "# Define the optimization objective\n",
    "objective = cp.Minimize(cp.quad_form(weights, cov_matrix))\n",
    "\n",
    "# Define the constraints\n",
    "constraints = [cp.sum(weights) == 1]\n",
    "\n",
    "# Define the optimization problem\n",
    "problem = cp.Problem(objective, constraints)\n",
    "\n",
    "# Solve the optimization problem\n",
    "problem.solve()\n",
    "\n",
    "# Print the optimal portfolio allocation\n",
    "print(weights.value)\n"
   ]
  },
  {
   "cell_type": "markdown",
   "id": "8fdc3a5b",
   "metadata": {},
   "source": [
    "This code will find the optimal portfolio allocation that minimizes the portfolio variance subject to the constraint that the sum of the weights is equal to 1. The optimal portfolio allocation will be printed as a 3-dimensional vector, with each element representing"
   ]
  },
  {
   "cell_type": "code",
   "execution_count": null,
   "id": "e295baad",
   "metadata": {},
   "outputs": [],
   "source": []
  },
  {
   "cell_type": "code",
   "execution_count": null,
   "id": "b8f233d7",
   "metadata": {},
   "outputs": [],
   "source": []
  },
  {
   "cell_type": "markdown",
   "id": "7f69fab8",
   "metadata": {},
   "source": [
    "6 / 6\n",
    "\n",
    "Certainly! Here is a sample Python code that demonstrates how you can find the best portfolio allocation among the tickers CCD, USA, and GOF using yfinance:"
   ]
  },
  {
   "cell_type": "code",
   "execution_count": null,
   "id": "667f652e",
   "metadata": {},
   "outputs": [],
   "source": [
    "import yfinance as yf\n",
    "\n",
    "# Fetch stock data for the tickers\n",
    "tickers = [\"CCD\", \"USA\", \"GOF\"]\n",
    "stocks = yf.Tickers(tickers).tickers\n",
    "\n",
    "# Print the current price of each stock\n",
    "for stock in stocks:\n",
    "    print(f\"{stock.info['shortName']}: ${stock.info['regularMarketPrice']}\")\n",
    "\n",
    "# Find the best portfolio allocation using the Markowitz portfolio optimization model\n",
    "returns = []\n",
    "covariances = []\n",
    "\n",
    "for ticker in tickers:\n",
    "    returns.append(stocks[ticker].parsed_returns['returns'])\n",
    "    covariances.append(stocks[ticker].parsed_returns['covariance'])\n",
    "\n",
    "import numpy as np\n",
    "from scipy.optimize import minimize\n",
    "\n",
    "def portfolio_return(w, returns):\n",
    "    return np.sum(np.dot(w, returns))\n",
    "\n",
    "def portfolio_variance(w, covariances):\n",
    "    return np.dot(np.dot(w, covariances), w)\n",
    "\n",
    "def objective(w, returns, covariances):\n",
    "    return -portfolio_return(w, returns) / portfolio_variance(w, covariances)\n",
    "\n",
    "n = len(returns)\n",
    "w0 = np.ones(n) / n\n",
    "bounds = [(0, 1) for i in range(n)]\n",
    "constraints = {\"type\": \"eq\", \"fun\": lambda w: sum(w) - 1}\n",
    "\n",
    "result = minimize(objective, w0, (returns, covariances), bounds=bounds, constraints=constraints)\n",
    "\n",
    "print(\"Optimal weights:\", result.x)\n",
    "print(\"Expected return:\", portfolio_return(result.x, returns))\n",
    "print(\"Expected variance:\", portfolio_variance(result.x, covariances))\n"
   ]
  },
  {
   "cell_type": "markdown",
   "id": "e3530321",
   "metadata": {},
   "source": [
    "This code first fetches stock data for the three tickers using yfinance and prints the current price of each stock. It then uses the Markowitz portfolio optimization model to find the optimal weights for the three stocks that maximize the expected return while minimizing the expected variance. The code prints the optimal weights, expected return, and expected variance of the portfolio.\n",
    "\n",
    "I hope this helps! Let me know if you have any questions or need further assistance."
   ]
  },
  {
   "cell_type": "code",
   "execution_count": null,
   "id": "ae7a61f6",
   "metadata": {},
   "outputs": [],
   "source": []
  },
  {
   "cell_type": "code",
   "execution_count": null,
   "id": "1c8c6920",
   "metadata": {},
   "outputs": [],
   "source": []
  },
  {
   "cell_type": "markdown",
   "id": "84cfcf7b",
   "metadata": {},
   "source": [
    "7 / 7\n",
    "\n",
    "Certainly! Here is some example code that demonstrates how you can use the yfinance library to retrieve historical data for the stocks you've listed (CCD, USA, and GOF) and then use that data to calculate the optimal portfolio allocation:"
   ]
  },
  {
   "cell_type": "code",
   "execution_count": null,
   "id": "d267416e",
   "metadata": {},
   "outputs": [],
   "source": [
    "import yfinance as yf\n",
    "\n",
    "# Get the stock data for CCD, USA, and GOF\n",
    "ccd = yf.Ticker(\"CCD\")\n",
    "usa = yf.Ticker(\"USA\")\n",
    "gof = yf.Ticker(\"GOF\")\n",
    "\n",
    "ccd_data = ccd.history(period=\"1y\")\n",
    "usa_data = usa.history(period=\"1y\")\n",
    "gof_data = gof.history(period=\"1y\")\n",
    "\n",
    "# Calculate the returns for each stock\n",
    "ccd_returns = ccd_data['Close'].pct_change()\n",
    "usa_returns = usa_data['Close'].pct_change()\n",
    "gof_returns = gof_data['Close'].pct_change()\n",
    "\n",
    "# Calculate the covariance matrix for the returns\n",
    "covariance_matrix = np.cov(ccd_returns, usa_returns, gof_returns)\n",
    "\n",
    "# Calculate the portfolio returns and risk\n",
    "portfolio_returns = np.sum(covariance_matrix[0] * weights)\n",
    "portfolio_risk = np.sqrt(np.dot(weights.T, np.dot(covariance_matrix, weights)))\n",
    "\n",
    "# Calculate the Sharpe ratio\n",
    "sharpe_ratio = portfolio_returns / portfolio_risk\n",
    "\n",
    "# Find the optimal portfolio allocation\n",
    "optimal_weights = quadratic_programming(returns, covariance_matrix, risk_free_rate)\n",
    "\n",
    "print(\"Optimal portfolio allocation:\")\n",
    "print(\"CCD:\", optimal_weights[0])\n",
    "print(\"USA:\", optimal_weights[1])\n",
    "print(\"GOF:\", optimal_weights[2])\n"
   ]
  },
  {
   "cell_type": "markdown",
   "id": "8ced15dc",
   "metadata": {},
   "source": [
    "This code retrieves the historical data for each stock using the yfinance library and then calculates the returns for each stock. It then calculates the covariance matrix for the returns and uses this matrix to calculate the portfolio returns and risk. Finally, it uses a function called quadratic_programming to find the optimal portfolio allocation that maximizes the Sharpe ratio.\n",
    "\n",
    "I hope this helps! Let me know if you have any questions."
   ]
  },
  {
   "cell_type": "code",
   "execution_count": null,
   "id": "7e04f0e7",
   "metadata": {},
   "outputs": [],
   "source": []
  },
  {
   "cell_type": "code",
   "execution_count": null,
   "id": "e5644d2a",
   "metadata": {},
   "outputs": [],
   "source": []
  },
  {
   "cell_type": "markdown",
   "id": "fec7a414",
   "metadata": {},
   "source": [
    "8 / 8\n",
    "\n",
    "To find the best portfolio allocation among the tickers CCD, USA, and GOF using yfinance, you can use the following code:"
   ]
  },
  {
   "cell_type": "code",
   "execution_count": null,
   "id": "c5709e62",
   "metadata": {},
   "outputs": [],
   "source": [
    "import yfinance as yf\n",
    "\n",
    "# Get stock data for CCD, USA, and GOF\n",
    "ccd = yf.Ticker(\"CCD\").info\n",
    "usa = yf.Ticker(\"USA\").info\n",
    "gof = yf.Ticker(\"GOF\").info\n",
    "\n",
    "# Calculate the returns for each stock\n",
    "ccd_return = (ccd['regularMarketPrice'] - ccd['regularMarketPreviousClose']) / ccd['regularMarketPreviousClose']\n",
    "usa_return = (usa['regularMarketPrice'] - usa['regularMarketPreviousClose']) / usa['regularMarketPreviousClose']\n",
    "gof_return = (gof['regularMarketPrice'] - gof['regularMarketPreviousClose']) / gof['regularMarketPreviousClose']\n",
    "\n",
    "# Calculate the weighted returns for each stock, using equal weights\n",
    "weighted_return = (ccd_return + usa_return + gof_return) / 3\n",
    "\n",
    "# Print the weighted returns for each stock\n",
    "print(\"CCD: \", ccd_return)\n",
    "print(\"USA: \", usa_return)\n",
    "print(\"GOF: \", gof_return)\n",
    "print(\"Weighted return: \", weighted_return)\n",
    "\n",
    "# Determine the best portfolio allocation by selecting the stock with the highest weighted return\n",
    "if ccd_return == max(ccd_return, usa_return, gof_return):\n",
    "  print(\"CCD has the highest weighted return and should be included in the portfolio.\")\n",
    "elif usa_return == max(ccd_return, usa_return, gof_return):\n",
    "  print(\"USA has the highest weighted return and should be included in the portfolio.\")\n",
    "else:\n",
    "  print(\"GOF has the highest weighted return and should be included in the portfolio.\")\n"
   ]
  },
  {
   "cell_type": "markdown",
   "id": "eea749bf",
   "metadata": {},
   "source": [
    "This code will first import the yfinance library, then retrieve the stock data for CCD, USA, and GOF using the Ticker function. It will then calculate the returns for each stock by comparing the current price to the previous close price. Next, it will calculate the weighted returns for each stock by taking the average of all three returns. Finally, it will determine the best portfolio allocation by selecting the stock with the highest weighted return and printing a message indicating which stock should be included in the portfolio."
   ]
  },
  {
   "cell_type": "code",
   "execution_count": null,
   "id": "8b2252a8",
   "metadata": {},
   "outputs": [],
   "source": []
  },
  {
   "cell_type": "code",
   "execution_count": null,
   "id": "eb71ee11",
   "metadata": {},
   "outputs": [],
   "source": []
  },
  {
   "cell_type": "code",
   "execution_count": null,
   "id": "628c968e",
   "metadata": {},
   "outputs": [],
   "source": [
    "import yfinance as yf\n",
    "\n",
    "# Get stock data for CCD, USA, and GOF\n",
    "ccd = yf.Ticker(\"CCD\").info\n",
    "usa = yf.Ticker(\"USA\").info\n",
    "gof = yf.Ticker(\"GOF\").info\n",
    "\n",
    "# Calculate the mean return and standard deviation for each stock\n",
    "ccd_mean_return = ccd['regularMarketPrice'] / ccd['regularMarketPreviousClose'] - 1\n",
    "ccd_std_dev = ccd['regularMarketPrice'] / ccd['regularMarketOpen'] - 1\n",
    "usa_mean_return = usa['regularMarketPrice'] / usa['regularMarketPreviousClose'] - 1\n",
    "usa_std_dev = usa['regularMarketPrice'] / usa['regularMarketOpen'] - 1\n",
    "gof_mean_return = gof['regularMarketPrice'] / gof['regularMarketPreviousClose'] - 1\n",
    "gof_std_dev = gof['regularMarketPrice'] / gof['regularMarketOpen'] - 1\n",
    "\n",
    "# Calculate the mean return and standard deviation for the portfolio\n",
    "mean_return = 0.33 * ccd_mean_return + 0.33 * usa_mean_return + 0.33 * gof_mean_return\n",
    "std_dev = ((0.33**2) * ccd_std_dev**2) + ((0.33**2) * usa_std_dev**2) + ((0.33**2) * gof_std_dev**2)\n",
    "\n",
    "# Print the results\n",
    "print(f\"Mean return: {mean_return:.2f}\")\n",
    "print(f\"Standard deviation: {std_dev:.2f}\")\n"
   ]
  },
  {
   "cell_type": "markdown",
   "id": "30f8ec0c",
   "metadata": {},
   "source": [
    "This code will get the stock data for CCD, USA, and GOF using the yfinance library, calculate the mean return and standard deviation for each stock, and then calculate the mean return and standard deviation for a portfolio with equal allocations of 33% to each stock. Finally, it will print the results to the console.\n",
    "\n",
    "I hope this helps! Let me know if you have any questions."
   ]
  },
  {
   "cell_type": "code",
   "execution_count": null,
   "id": "d9e97423",
   "metadata": {},
   "outputs": [],
   "source": []
  },
  {
   "cell_type": "code",
   "execution_count": null,
   "id": "ccbf441c",
   "metadata": {},
   "outputs": [],
   "source": []
  },
  {
   "cell_type": "code",
   "execution_count": null,
   "id": "eeea7c93",
   "metadata": {},
   "outputs": [],
   "source": [
    "import yfinance as yf\n",
    "\n",
    "# Get stock data for CCD, USA, and GOF\n",
    "tickers = [\"CCD\", \"USA\", \"GOF\"]\n",
    "stocks = yf.download(tickers, period=\"1y\")\n",
    "\n",
    "# Calculate the daily returns for each stock\n",
    "returns = stocks.pct_change().dropna()\n",
    "\n",
    "# Find the optimal portfolio allocation using the Sharpe ratio\n",
    "import numpy as np\n",
    "from scipy.optimize import minimize\n",
    "\n",
    "def get_sharpe_ratio(weights):\n",
    "    # Calculate the portfolio return and volatility\n",
    "    portfolio_return = np.sum(returns.mean() * weights) * 252\n",
    "    portfolio_volatility = np.sqrt(np.dot(weights.T, np.dot(returns.cov() * 252, weights)))\n",
    "\n",
    "    # Return the Sharpe ratio\n",
    "    return -portfolio_return / portfolio_volatility\n",
    "\n",
    "# Constraints\n",
    "cons = ({'type': 'eq', 'fun': lambda x: np.sum(x) - 1})\n",
    "\n",
    "# Boundaries for the weights\n",
    "bnds = tuple((0, 1) for x in range(len(tickers)))\n",
    "\n",
    "# Initial guess for the weights\n",
    "init_guess = [1/len(tickers)] * len(tickers)\n",
    "\n",
    "# Minimize the function\n",
    "opt_results = minimize(get_sharpe_ratio, init_guess, method='SLSQP', bounds=bnds, constraints=cons)\n",
    "\n",
    "# Get the optimal weights\n",
    "opt_weights = opt_results.x\n",
    "\n",
    "# Print the optimal portfolio allocation\n",
    "print(\"Optimal portfolio allocation:\")\n",
    "for i, ticker in enumerate(tickers):\n",
    "    print(f\"{ticker}: {opt_weights[i]:.2f}\")\n"
   ]
  },
  {
   "cell_type": "markdown",
   "id": "07ee13db",
   "metadata": {},
   "source": [
    "This code first retrieves the stock data for the three tickers using the yfinance library and calculates the daily returns for each stock. It then defines a function get_sharpe_ratio that calculates the Sharpe ratio for a given portfolio allocation, which is a measure of risk-adjusted return. The function is then minimized using the scipy.optimize.minimize function with the SLSQP algorithm to find the optimal portfolio allocation that maximizes the Sharpe ratio. The optimal weights are then printed to the console."
   ]
  },
  {
   "cell_type": "code",
   "execution_count": null,
   "id": "5c4b516c",
   "metadata": {},
   "outputs": [],
   "source": []
  },
  {
   "cell_type": "code",
   "execution_count": null,
   "id": "5b92be07",
   "metadata": {},
   "outputs": [],
   "source": []
  },
  {
   "cell_type": "code",
   "execution_count": null,
   "id": "d2ceb5f8",
   "metadata": {},
   "outputs": [],
   "source": [
    "Certainly! Here is a python code that uses the yfinance library to find the optimal portfolio allocation for the given tickers using the Sharpe Ratio as the optimization metric:"
   ]
  },
  {
   "cell_type": "code",
   "execution_count": null,
   "id": "680ed8ff",
   "metadata": {},
   "outputs": [],
   "source": [
    "import yfinance as yf\n",
    "import numpy as np\n",
    "\n",
    "# Get stock data for the given tickers\n",
    "tickers = ['CCD', 'USA', 'GOF']\n",
    "data = yf.download(tickers, start='2020-01-01', end='2020-12-31')['Adj Close']\n",
    "\n",
    "# Calculate daily returns\n",
    "returns = data.pct_change()\n",
    "\n",
    "# Get the number of assets\n",
    "num_assets = len(tickers)\n",
    "\n",
    "# Set the initial weights of the portfolio to be equal\n",
    "weights = np.array([1/num_assets] * num_assets)\n",
    "\n",
    "# Set the risk-free rate\n",
    "risk_free_rate = 0.02\n",
    "\n",
    "# Set the number of iterations and the step size for the gradient descent algorithm\n",
    "num_iterations = 10000\n",
    "step_size = 1e-4\n",
    "\n",
    "# Set the tolerance for the optimization algorithm\n",
    "tolerance = 1e-6\n",
    "\n",
    "# Initialize the Sharpe Ratio to be negative infinity\n",
    "max_sharpe_ratio = -np.inf\n",
    "\n",
    "# Run the optimization algorithm\n",
    "for i in range(num_iterations):\n",
    "  # Calculate the portfolio return and volatility\n",
    "  portfolio_return = np.sum(returns.mean() * weights) * 252\n",
    "  portfolio_volatility = np.sqrt(np.dot(weights.T, np.dot(returns.cov() * 252, weights)))\n",
    "  \n",
    "  # Calculate the Sharpe Ratio\n",
    "  sharpe_ratio = (portfolio_return - risk_free_rate) / portfolio_volatility\n",
    "  \n",
    "  # Check if the Sharpe Ratio is greater than the current maximum\n",
    "  if sharpe_ratio > max_sharpe_ratio:\n",
    "    # Update the maximum Sharpe Ratio and the optimal weights\n",
    "    max_sharpe_ratio = sharpe_ratio\n",
    "    optimal_weights = weights\n",
    "    \n",
    "  # Calculate the gradient of the Sharpe Ratio with respect to the weights\n",
    "  gradient = returns.mean() * 252 - risk_free_rate / portfolio_volatility * np.dot(returns.cov() * 252, weights)\n",
    "  \n",
    "  # Update the weights using gradient descent\n",
    "  weights = weights + step_size * gradient\n",
    "  \n",
    "  # Check if the optimization algorithm has converged\n",
    "  if np.sum(np.abs(step_size * gradient)) < tolerance:\n",
    "    break\n",
    "\n",
    "# Print the optimal weights\n",
    "print(\"Optimal weights:\", optimal_weights)\n"
   ]
  },
  {
   "cell_type": "markdown",
   "id": "07726a7e",
   "metadata": {},
   "source": [
    "This code will find the optimal weights for the given tickers that maximize the Sharpe Ratio, which is a measure of risk-adjusted return. The Sharpe Ratio is calculated as the ratio of the portfolio's excess return (i.e., the return above the risk-free rate) to its volatility. The optimization is done using a gradient descent algorithm, which iteratively updates the weights in a direction that increases the Sharpe Ratio. The optimization stops when the algorithm converges or the maximum number of iterations is reached.\n",
    "\n",
    "I hope this helps! Let me know if you have any questions."
   ]
  },
  {
   "cell_type": "markdown",
   "id": "018bfa7d",
   "metadata": {},
   "source": [
    "14 / 14\n",
    "\n",
    "Sure! Here is a sample Python code that demonstrates how to find the optimal portfolio allocation among three tickers using the yfinance library:"
   ]
  },
  {
   "cell_type": "code",
   "execution_count": null,
   "id": "08384e89",
   "metadata": {},
   "outputs": [],
   "source": [
    "import yfinance as yf\n",
    "\n",
    "# Set the tickers\n",
    "tickers = ['CCD', 'USA', 'GOF']\n",
    "\n",
    "# Get the stock data\n",
    "data = yf.download(tickers, period='1y', group_by='ticker')\n",
    "\n",
    "# Calculate the daily returns\n",
    "returns = data['Adj Close'].pct_change().dropna()\n",
    "\n",
    "# Set the initial portfolio weights\n",
    "weights = [0.33, 0.33, 0.34]\n",
    "\n",
    "# Calculate the portfolio returns\n",
    "portfolio_returns = (returns * weights).sum(axis=1)\n",
    "\n",
    "# Print the portfolio returns\n",
    "print(portfolio_returns)\n"
   ]
  },
  {
   "cell_type": "markdown",
   "id": "a4154003",
   "metadata": {},
   "source": [
    "This code will download the stock data for the specified tickers using the yfinance library, calculate the daily returns for each ticker, and then calculate the returns of a portfolio with equal weights allocated to each ticker.\n",
    "\n",
    "To find the optimal portfolio allocation, you can use a optimization algorithm such as a genetic algorithm or a gradient descent algorithm. You can also use a library such as scipy.optimize to perform optimization.\n",
    "\n",
    "I hope this helps! Let me know if you have any questions."
   ]
  },
  {
   "cell_type": "code",
   "execution_count": null,
   "id": "61e3fc7c",
   "metadata": {},
   "outputs": [],
   "source": []
  }
 ],
 "metadata": {
  "kernelspec": {
   "display_name": "Python 3 (ipykernel)",
   "language": "python",
   "name": "python3"
  },
  "language_info": {
   "codemirror_mode": {
    "name": "ipython",
    "version": 3
   },
   "file_extension": ".py",
   "mimetype": "text/x-python",
   "name": "python",
   "nbconvert_exporter": "python",
   "pygments_lexer": "ipython3",
   "version": "3.9.12"
  }
 },
 "nbformat": 4,
 "nbformat_minor": 5
}
