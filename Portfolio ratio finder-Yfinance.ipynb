{
 "cells": [
  {
   "cell_type": "markdown",
   "id": "0c31a4b7",
   "metadata": {},
   "source": [
    "write me a python code to find the best portfolio allocation among ticke:CCD, USA,GOF using yfinance "
   ]
  },
  {
   "cell_type": "markdown",
   "id": "ad00acda",
   "metadata": {},
   "source": [
    "First, you need to install the yfinance library using pip install yfinance.\n",
    "\n",
    "Next, you can use the yfinance library to fetch the stock data for the three tickers. You can do this using the Ticker class of the yfinance library and the info method."
   ]
  },
  {
   "cell_type": "code",
   "execution_count": null,
   "id": "43c3e55a",
   "metadata": {},
   "outputs": [],
   "source": [
    "import yfinance as yf\n",
    "\n",
    "ccd = yf.Ticker(\"CCD\")\n",
    "ccd_info = ccd.info\n",
    "\n",
    "usa = yf.Ticker(\"USA\")\n",
    "usa_info = usa.info\n",
    "\n",
    "gof = yf.Ticker(\"GOF\")\n",
    "gof_info = gof.info\n"
   ]
  },
  {
   "cell_type": "markdown",
   "id": "c6e11ca3",
   "metadata": {},
   "source": [
    "You can then use the stock data to calculate the expected return and the covariance matrix for the three stocks. The expected return can be calculated as the average of the historical returns of the stock, and the covariance matrix can be calculated as the covariance of the historical returns of the three stocks."
   ]
  },
  {
   "cell_type": "code",
   "execution_count": null,
   "id": "afa80ba2",
   "metadata": {},
   "outputs": [],
   "source": [
    "import numpy as np\n",
    "\n",
    "returns = np.array([ccd_info['regularMarketPrice'], usa_info['regularMarketPrice'], gof_info['regularMarketPrice']])\n",
    "cov_matrix = np.cov(returns)\n"
   ]
  },
  {
   "cell_type": "markdown",
   "id": "bfb06ec0",
   "metadata": {},
   "source": [
    "Now, you can use a optimization algorithm such as the Sharpe ratio to find the optimal portfolio allocation that maximizes the Sharpe ratio. The Sharpe ratio is a measure of the risk-adjusted return of an investment."
   ]
  },
  {
   "cell_type": "code",
   "execution_count": null,
   "id": "b1e6b080",
   "metadata": {},
   "outputs": [],
   "source": [
    "from scipy.optimize import minimize\n",
    "\n",
    "def portfolio_performance(weights, mean_returns, cov_matrix, rf):\n",
    "    portfolio_return = np.sum(mean_returns * weights) * 252\n",
    "    portfolio_std = np.sqrt(np.dot(weights.T, np.dot(cov_matrix, weights))) * np.sqrt(252)\n",
    "    sharpe_ratio = (portfolio_return - rf) / portfolio_std\n",
    "    return -sharpe_ratio\n",
    "\n",
    "def optimize_portfolio(mean_returns, cov_matrix, rf):\n",
    "    num_assets = len(mean_returns)\n",
    "    args = (mean_returns, cov_matrix, rf)\n",
    "    constraints = ({'type': 'eq', 'fun': lambda x: np.sum(x) - 1})\n",
    "    bound = (0.0, 1.0)\n",
    "    bounds = tuple(bound for asset in range(num_assets))\n",
    "    result = minimize(portfolio_performance, num_assets * [1. / num_assets,], args=args,\n",
    "                      method='SLSQP', bounds=bounds, constraints=constraints)\n",
    "    return result\n",
    "\n",
    "mean_returns = returns.mean()\n",
    "cov_matrix = np.cov(returns)\n",
    "rf = 0.0\n",
    "\n",
    "optimized_weights = optimize_portfolio(mean_returns, cov_matrix, rf)\n"
   ]
  },
  {
   "cell_type": "markdown",
   "id": "ada3b5a6",
   "metadata": {},
   "source": [
    "The optimized weights for the portfolio allocation will be returned in the x attribute of the optimized_weights object. You can then use these weights to calculate the expected return and risk of the optimized portfolio."
   ]
  },
  {
   "cell_type": "code",
   "execution_count": null,
   "id": "d594320a",
   "metadata": {},
   "outputs": [],
   "source": [
    "portfolio_\n"
   ]
  },
  {
   "cell_type": "code",
   "execution_count": null,
   "id": "46750bf7",
   "metadata": {},
   "outputs": [],
   "source": []
  },
  {
   "cell_type": "code",
   "execution_count": null,
   "id": "8f37f927",
   "metadata": {},
   "outputs": [],
   "source": []
  },
  {
   "cell_type": "code",
   "execution_count": null,
   "id": "90524476",
   "metadata": {},
   "outputs": [],
   "source": []
  },
  {
   "cell_type": "markdown",
   "id": "8ffd5396",
   "metadata": {},
   "source": [
    "2 / 2\n",
    "\n",
    "Certainly! Here is a sample Python code that demonstrates how you can use the yfinance library to find the optimal portfolio allocation among the tickers CCD, USA, and GOF:"
   ]
  },
  {
   "cell_type": "code",
   "execution_count": null,
   "id": "8b204bd1",
   "metadata": {},
   "outputs": [],
   "source": [
    "import yfinance as yf\n",
    "\n",
    "# Get stock data for CCD, USA, and GOF\n",
    "ccd = yf.Ticker(\"CCD\").history(period=\"max\")\n",
    "usa = yf.Ticker(\"USA\").history(period=\"max\")\n",
    "gof = yf.Ticker(\"GOF\").history(period=\"max\")\n",
    "\n",
    "# Calculate daily returns for each stock\n",
    "ccd_returns = ccd['Close'].pct_change()\n",
    "usa_returns = usa['Close'].pct_change()\n",
    "gof_returns = gof['Close'].pct_change()\n",
    "\n",
    "# Calculate the mean and covariance of the returns\n",
    "mean_returns = [ccd_returns.mean(), usa_returns.mean(), gof_returns.mean()]\n",
    "cov_matrix = np.cov(ccd_returns, usa_returns, gof_returns)\n",
    "\n",
    "# Set the number of simulations and the number of stocks in the portfolio\n",
    "num_simulations = 10000\n",
    "num_stocks = 3\n",
    "\n",
    "# Set the desired level of risk (standard deviation of the portfolio)\n",
    "risk_level = 0.2\n",
    "\n",
    "# Calculate the optimal portfolio weights using the mean-variance optimization process\n",
    "results = []\n",
    "for _ in range(num_simulations):\n",
    "    weights = np.random.random(num_stocks)\n",
    "    weights /= np.sum(weights)\n",
    "    portfolio_return = np.dot(weights, mean_returns)\n",
    "    portfolio_std_dev = np.sqrt(np.dot(weights.T, np.dot(cov_matrix, weights)))\n",
    "    sharpe_ratio = portfolio_return / portfolio_std_dev\n",
    "    results.append((weights, portfolio_return, portfolio_std_dev, sharpe_ratio))\n",
    "\n",
    "# Sort the results by Sharpe ratio and print the top 10 portfolios\n",
    "results.sort(key=lambda x: x[3], reverse=True)\n",
    "print(results[:10])\n"
   ]
  },
  {
   "cell_type": "code",
   "execution_count": null,
   "id": "1a8342ed",
   "metadata": {},
   "outputs": [],
   "source": [
    "This code first retrieves the historical data for each of the three stocks using the yfinance library. It then calculates the daily returns for each stock and uses these returns to calculate the mean and covariance of the returns.\n",
    "\n",
    "Next, the code sets the number of simulations to run and the number of stocks in the portfolio. It also sets the desired level of risk (standard deviation) for the portfolio.\n",
    "\n",
    "The code then uses a loop to iterate through the simulations, generating random weights for the stocks in the portfolio and calculating the portfolio's return, standard deviation, and Sharpe ratio. It stores these results in a list and sorts the list by Sharpe ratio in descending order. Finally, it prints the top 10 portfolios with the highest Sharpe ratio.\n",
    "\n",
    "I hope this helps! Let me know if you have any questions."
   ]
  },
  {
   "cell_type": "code",
   "execution_count": null,
   "id": "9fb4a6d4",
   "metadata": {},
   "outputs": [],
   "source": []
  },
  {
   "cell_type": "code",
   "execution_count": null,
   "id": "309eaf6a",
   "metadata": {},
   "outputs": [],
   "source": []
  },
  {
   "cell_type": "markdown",
   "id": "c86e65c5",
   "metadata": {},
   "source": [
    "5、5\n",
    "\n",
    "To find the best portfolio allocation among the stocks CCD, USA, and GOF using yfinance, you can use the following steps:\n",
    "\n",
    "First, you will need to install the yfinance library. You can do this by running the following command:"
   ]
  },
  {
   "cell_type": "code",
   "execution_count": null,
   "id": "59000e76",
   "metadata": {},
   "outputs": [],
   "source": [
    "pip install yfinance\n"
   ]
  },
  {
   "cell_type": "markdown",
   "id": "128e8a41",
   "metadata": {},
   "source": [
    "Next, you will need to import the necessary libraries and modules. You will need to import yfinance and pandas:"
   ]
  },
  {
   "cell_type": "code",
   "execution_count": null,
   "id": "ae2d64c9",
   "metadata": {},
   "outputs": [],
   "source": [
    "import yfinance as yf\n",
    "import pandas as pd\n"
   ]
  },
  {
   "cell_type": "markdown",
   "id": "6c6930ed",
   "metadata": {},
   "source": [
    "Now, you can use the yfinance library to retrieve the stock data for CCD, USA, and GOF. You can do this by using the Ticker class and the info method:"
   ]
  },
  {
   "cell_type": "code",
   "execution_count": null,
   "id": "726003c3",
   "metadata": {},
   "outputs": [],
   "source": [
    "tickers = ['CCD', 'USA', 'GOF']\n",
    "stocks = yf.Ticker(tickers).info\n"
   ]
  },
  {
   "cell_type": "markdown",
   "id": "f08a7e34",
   "metadata": {},
   "source": [
    "The stocks variable will now contain a dictionary with information about the stocks. You can access the data for each stock using the stock ticker as the key. For example, you can access the data for CCD using stocks['CCD'].\n",
    "\n",
    "Next, you will need to calculate the returns for each stock. You can do this by using the pct_change method of the DataFrame class from pandas. For example, you can calculate the returns for CCD like this:"
   ]
  },
  {
   "cell_type": "code",
   "execution_count": null,
   "id": "cb896459",
   "metadata": {},
   "outputs": [],
   "source": [
    "ccd_returns = pd.DataFrame(stocks['CCD']['regularMarketPrice']).pct_change()\n"
   ]
  },
  {
   "cell_type": "code",
   "execution_count": null,
   "id": "03276d65",
   "metadata": {},
   "outputs": [],
   "source": [
    "Repeat this process for the other two stocks, USA and GOF.\n",
    "\n",
    "Now, you will need to calculate the covariance matrix for the returns of the three stocks. You can do this using the cov method of the DataFrame class:"
   ]
  },
  {
   "cell_type": "code",
   "execution_count": null,
   "id": "8809ce53",
   "metadata": {},
   "outputs": [],
   "source": [
    "cov_matrix = pd.DataFrame([ccd_returns, usa_returns, gof_returns]).cov()\n"
   ]
  },
  {
   "cell_type": "markdown",
   "id": "d302754c",
   "metadata": {},
   "source": [
    "Finally, you can use the cov_matrix and the expected returns for each stock to find the optimal portfolio allocation using the mean-variance optimization technique. There are many ways to do this, but one way is to use the cvxpy library. You can install cvxpy by running the following command:"
   ]
  },
  {
   "cell_type": "code",
   "execution_count": null,
   "id": "07a28dc8",
   "metadata": {},
   "outputs": [],
   "source": [
    "pip install cvxpy\n"
   ]
  },
  {
   "cell_type": "markdown",
   "id": "c7a6d087",
   "metadata": {},
   "source": [
    "Once you have installed cvxpy, you can use it to find the optimal portfolio allocation like this:"
   ]
  },
  {
   "cell_type": "code",
   "execution_count": null,
   "id": "610e91e5",
   "metadata": {},
   "outputs": [],
   "source": [
    "import cvxpy as cp\n",
    "\n",
    "# Define the optimization variables\n",
    "weights = cp.Variable(3)\n",
    "\n",
    "# Define the optimization objective\n",
    "objective = cp.Minimize(cp.quad_form(weights, cov_matrix))\n",
    "\n",
    "# Define the constraints\n",
    "constraints = [cp.sum(weights) == 1]\n",
    "\n",
    "# Define the optimization problem\n",
    "problem = cp.Problem(objective, constraints)\n",
    "\n",
    "# Solve the optimization problem\n",
    "problem.solve()\n",
    "\n",
    "# Print the optimal portfolio allocation\n",
    "print(weights.value)\n"
   ]
  },
  {
   "cell_type": "markdown",
   "id": "8fdc3a5b",
   "metadata": {},
   "source": [
    "This code will find the optimal portfolio allocation that minimizes the portfolio variance subject to the constraint that the sum of the weights is equal to 1. The optimal portfolio allocation will be printed as a 3-dimensional vector, with each element representing"
   ]
  },
  {
   "cell_type": "code",
   "execution_count": null,
   "id": "e295baad",
   "metadata": {},
   "outputs": [],
   "source": []
  },
  {
   "cell_type": "code",
   "execution_count": null,
   "id": "b8f233d7",
   "metadata": {},
   "outputs": [],
   "source": []
  },
  {
   "cell_type": "markdown",
   "id": "7f69fab8",
   "metadata": {},
   "source": [
    "6 / 6\n",
    "\n",
    "Certainly! Here is a sample Python code that demonstrates how you can find the best portfolio allocation among the tickers CCD, USA, and GOF using yfinance:"
   ]
  },
  {
   "cell_type": "code",
   "execution_count": null,
   "id": "667f652e",
   "metadata": {},
   "outputs": [],
   "source": [
    "import yfinance as yf\n",
    "\n",
    "# Fetch stock data for the tickers\n",
    "tickers = [\"CCD\", \"USA\", \"GOF\"]\n",
    "stocks = yf.Tickers(tickers).tickers\n",
    "\n",
    "# Print the current price of each stock\n",
    "for stock in stocks:\n",
    "    print(f\"{stock.info['shortName']}: ${stock.info['regularMarketPrice']}\")\n",
    "\n",
    "# Find the best portfolio allocation using the Markowitz portfolio optimization model\n",
    "returns = []\n",
    "covariances = []\n",
    "\n",
    "for ticker in tickers:\n",
    "    returns.append(stocks[ticker].parsed_returns['returns'])\n",
    "    covariances.append(stocks[ticker].parsed_returns['covariance'])\n",
    "\n",
    "import numpy as np\n",
    "from scipy.optimize import minimize\n",
    "\n",
    "def portfolio_return(w, returns):\n",
    "    return np.sum(np.dot(w, returns))\n",
    "\n",
    "def portfolio_variance(w, covariances):\n",
    "    return np.dot(np.dot(w, covariances), w)\n",
    "\n",
    "def objective(w, returns, covariances):\n",
    "    return -portfolio_return(w, returns) / portfolio_variance(w, covariances)\n",
    "\n",
    "n = len(returns)\n",
    "w0 = np.ones(n) / n\n",
    "bounds = [(0, 1) for i in range(n)]\n",
    "constraints = {\"type\": \"eq\", \"fun\": lambda w: sum(w) - 1}\n",
    "\n",
    "result = minimize(objective, w0, (returns, covariances), bounds=bounds, constraints=constraints)\n",
    "\n",
    "print(\"Optimal weights:\", result.x)\n",
    "print(\"Expected return:\", portfolio_return(result.x, returns))\n",
    "print(\"Expected variance:\", portfolio_variance(result.x, covariances))\n"
   ]
  },
  {
   "cell_type": "markdown",
   "id": "e3530321",
   "metadata": {},
   "source": [
    "This code first fetches stock data for the three tickers using yfinance and prints the current price of each stock. It then uses the Markowitz portfolio optimization model to find the optimal weights for the three stocks that maximize the expected return while minimizing the expected variance. The code prints the optimal weights, expected return, and expected variance of the portfolio.\n",
    "\n",
    "I hope this helps! Let me know if you have any questions or need further assistance."
   ]
  },
  {
   "cell_type": "code",
   "execution_count": null,
   "id": "ae7a61f6",
   "metadata": {},
   "outputs": [],
   "source": []
  },
  {
   "cell_type": "code",
   "execution_count": null,
   "id": "1c8c6920",
   "metadata": {},
   "outputs": [],
   "source": []
  },
  {
   "cell_type": "markdown",
   "id": "84cfcf7b",
   "metadata": {},
   "source": [
    "7 / 7\n",
    "\n",
    "Certainly! Here is some example code that demonstrates how you can use the yfinance library to retrieve historical data for the stocks you've listed (CCD, USA, and GOF) and then use that data to calculate the optimal portfolio allocation:"
   ]
  },
  {
   "cell_type": "code",
   "execution_count": null,
   "id": "d267416e",
   "metadata": {},
   "outputs": [],
   "source": [
    "import yfinance as yf\n",
    "\n",
    "# Get the stock data for CCD, USA, and GOF\n",
    "ccd = yf.Ticker(\"CCD\")\n",
    "usa = yf.Ticker(\"USA\")\n",
    "gof = yf.Ticker(\"GOF\")\n",
    "\n",
    "ccd_data = ccd.history(period=\"1y\")\n",
    "usa_data = usa.history(period=\"1y\")\n",
    "gof_data = gof.history(period=\"1y\")\n",
    "\n",
    "# Calculate the returns for each stock\n",
    "ccd_returns = ccd_data['Close'].pct_change()\n",
    "usa_returns = usa_data['Close'].pct_change()\n",
    "gof_returns = gof_data['Close'].pct_change()\n",
    "\n",
    "# Calculate the covariance matrix for the returns\n",
    "covariance_matrix = np.cov(ccd_returns, usa_returns, gof_returns)\n",
    "\n",
    "# Calculate the portfolio returns and risk\n",
    "portfolio_returns = np.sum(covariance_matrix[0] * weights)\n",
    "portfolio_risk = np.sqrt(np.dot(weights.T, np.dot(covariance_matrix, weights)))\n",
    "\n",
    "# Calculate the Sharpe ratio\n",
    "sharpe_ratio = portfolio_returns / portfolio_risk\n",
    "\n",
    "# Find the optimal portfolio allocation\n",
    "optimal_weights = quadratic_programming(returns, covariance_matrix, risk_free_rate)\n",
    "\n",
    "print(\"Optimal portfolio allocation:\")\n",
    "print(\"CCD:\", optimal_weights[0])\n",
    "print(\"USA:\", optimal_weights[1])\n",
    "print(\"GOF:\", optimal_weights[2])\n"
   ]
  },
  {
   "cell_type": "markdown",
   "id": "8ced15dc",
   "metadata": {},
   "source": [
    "This code retrieves the historical data for each stock using the yfinance library and then calculates the returns for each stock. It then calculates the covariance matrix for the returns and uses this matrix to calculate the portfolio returns and risk. Finally, it uses a function called quadratic_programming to find the optimal portfolio allocation that maximizes the Sharpe ratio.\n",
    "\n",
    "I hope this helps! Let me know if you have any questions."
   ]
  },
  {
   "cell_type": "code",
   "execution_count": null,
   "id": "7e04f0e7",
   "metadata": {},
   "outputs": [],
   "source": []
  },
  {
   "cell_type": "code",
   "execution_count": null,
   "id": "e5644d2a",
   "metadata": {},
   "outputs": [],
   "source": []
  },
  {
   "cell_type": "markdown",
   "id": "fec7a414",
   "metadata": {},
   "source": [
    "8 / 8\n",
    "\n",
    "To find the best portfolio allocation among the tickers CCD, USA, and GOF using yfinance, you can use the following code:"
   ]
  },
  {
   "cell_type": "code",
   "execution_count": null,
   "id": "c5709e62",
   "metadata": {},
   "outputs": [],
   "source": [
    "import yfinance as yf\n",
    "\n",
    "# Get stock data for CCD, USA, and GOF\n",
    "ccd = yf.Ticker(\"CCD\").info\n",
    "usa = yf.Ticker(\"USA\").info\n",
    "gof = yf.Ticker(\"GOF\").info\n",
    "\n",
    "# Calculate the returns for each stock\n",
    "ccd_return = (ccd['regularMarketPrice'] - ccd['regularMarketPreviousClose']) / ccd['regularMarketPreviousClose']\n",
    "usa_return = (usa['regularMarketPrice'] - usa['regularMarketPreviousClose']) / usa['regularMarketPreviousClose']\n",
    "gof_return = (gof['regularMarketPrice'] - gof['regularMarketPreviousClose']) / gof['regularMarketPreviousClose']\n",
    "\n",
    "# Calculate the weighted returns for each stock, using equal weights\n",
    "weighted_return = (ccd_return + usa_return + gof_return) / 3\n",
    "\n",
    "# Print the weighted returns for each stock\n",
    "print(\"CCD: \", ccd_return)\n",
    "print(\"USA: \", usa_return)\n",
    "print(\"GOF: \", gof_return)\n",
    "print(\"Weighted return: \", weighted_return)\n",
    "\n",
    "# Determine the best portfolio allocation by selecting the stock with the highest weighted return\n",
    "if ccd_return == max(ccd_return, usa_return, gof_return):\n",
    "  print(\"CCD has the highest weighted return and should be included in the portfolio.\")\n",
    "elif usa_return == max(ccd_return, usa_return, gof_return):\n",
    "  print(\"USA has the highest weighted return and should be included in the portfolio.\")\n",
    "else:\n",
    "  print(\"GOF has the highest weighted return and should be included in the portfolio.\")\n"
   ]
  },
  {
   "cell_type": "markdown",
   "id": "eea749bf",
   "metadata": {},
   "source": [
    "This code will first import the yfinance library, then retrieve the stock data for CCD, USA, and GOF using the Ticker function. It will then calculate the returns for each stock by comparing the current price to the previous close price. Next, it will calculate the weighted returns for each stock by taking the average of all three returns. Finally, it will determine the best portfolio allocation by selecting the stock with the highest weighted return and printing a message indicating which stock should be included in the portfolio."
   ]
  },
  {
   "cell_type": "code",
   "execution_count": null,
   "id": "8b2252a8",
   "metadata": {},
   "outputs": [],
   "source": []
  },
  {
   "cell_type": "code",
   "execution_count": null,
   "id": "eb71ee11",
   "metadata": {},
   "outputs": [],
   "source": []
  },
  {
   "cell_type": "code",
   "execution_count": null,
   "id": "628c968e",
   "metadata": {},
   "outputs": [],
   "source": [
    "import yfinance as yf\n",
    "\n",
    "# Get stock data for CCD, USA, and GOF\n",
    "ccd = yf.Ticker(\"CCD\").info\n",
    "usa = yf.Ticker(\"USA\").info\n",
    "gof = yf.Ticker(\"GOF\").info\n",
    "\n",
    "# Calculate the mean return and standard deviation for each stock\n",
    "ccd_mean_return = ccd['regularMarketPrice'] / ccd['regularMarketPreviousClose'] - 1\n",
    "ccd_std_dev = ccd['regularMarketPrice'] / ccd['regularMarketOpen'] - 1\n",
    "usa_mean_return = usa['regularMarketPrice'] / usa['regularMarketPreviousClose'] - 1\n",
    "usa_std_dev = usa['regularMarketPrice'] / usa['regularMarketOpen'] - 1\n",
    "gof_mean_return = gof['regularMarketPrice'] / gof['regularMarketPreviousClose'] - 1\n",
    "gof_std_dev = gof['regularMarketPrice'] / gof['regularMarketOpen'] - 1\n",
    "\n",
    "# Calculate the mean return and standard deviation for the portfolio\n",
    "mean_return = 0.33 * ccd_mean_return + 0.33 * usa_mean_return + 0.33 * gof_mean_return\n",
    "std_dev = ((0.33**2) * ccd_std_dev**2) + ((0.33**2) * usa_std_dev**2) + ((0.33**2) * gof_std_dev**2)\n",
    "\n",
    "# Print the results\n",
    "print(f\"Mean return: {mean_return:.2f}\")\n",
    "print(f\"Standard deviation: {std_dev:.2f}\")\n"
   ]
  },
  {
   "cell_type": "markdown",
   "id": "30f8ec0c",
   "metadata": {},
   "source": [
    "This code will get the stock data for CCD, USA, and GOF using the yfinance library, calculate the mean return and standard deviation for each stock, and then calculate the mean return and standard deviation for a portfolio with equal allocations of 33% to each stock. Finally, it will print the results to the console.\n",
    "\n",
    "I hope this helps! Let me know if you have any questions."
   ]
  },
  {
   "cell_type": "code",
   "execution_count": null,
   "id": "d9e97423",
   "metadata": {},
   "outputs": [],
   "source": []
  },
  {
   "cell_type": "code",
   "execution_count": null,
   "id": "ccbf441c",
   "metadata": {},
   "outputs": [],
   "source": []
  },
  {
   "cell_type": "code",
   "execution_count": null,
   "id": "eeea7c93",
   "metadata": {},
   "outputs": [],
   "source": []
  }
 ],
 "metadata": {
  "kernelspec": {
   "display_name": "Python 3 (ipykernel)",
   "language": "python",
   "name": "python3"
  },
  "language_info": {
   "codemirror_mode": {
    "name": "ipython",
    "version": 3
   },
   "file_extension": ".py",
   "mimetype": "text/x-python",
   "name": "python",
   "nbconvert_exporter": "python",
   "pygments_lexer": "ipython3",
   "version": "3.9.12"
  }
 },
 "nbformat": 4,
 "nbformat_minor": 5
}
